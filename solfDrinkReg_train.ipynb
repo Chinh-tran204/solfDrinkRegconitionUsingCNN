{
  "nbformat": 4,
  "nbformat_minor": 0,
  "metadata": {
    "colab": {
      "provenance": [],
      "gpuType": "T4",
      "include_colab_link": true
    },
    "kernelspec": {
      "name": "python3",
      "display_name": "Python 3"
    },
    "language_info": {
      "name": "python"
    },
    "accelerator": "GPU",
    "gpuClass": "standard"
  },
  "cells": [
    {
      "cell_type": "markdown",
      "metadata": {
        "id": "view-in-github",
        "colab_type": "text"
      },
      "source": [
        "<a href=\"https://colab.research.google.com/github/Chinh-tran204/solfDrinkRegconitionUsingCNN/blob/main/solfDrinkReg_train.ipynb\" target=\"_parent\"><img src=\"https://colab.research.google.com/assets/colab-badge.svg\" alt=\"Open In Colab\"/></a>"
      ]
    },
    {
      "cell_type": "code",
      "execution_count": null,
      "metadata": {
        "colab": {
          "base_uri": "https://localhost:8080/"
        },
        "id": "lpIoNrG4Swcv",
        "outputId": "d7c3f4ac-7697-4e97-e513-2d822eb39f73"
      },
      "outputs": [
        {
          "output_type": "stream",
          "name": "stdout",
          "text": [
            "Drive already mounted at /content/drive; to attempt to forcibly remount, call drive.mount(\"/content/drive\", force_remount=True).\n"
          ]
        }
      ],
      "source": [
        "#Kết nối với drive để trích xuất file data\n",
        "from google.colab import drive\n",
        "drive.mount('/content/drive')\n"
      ]
    },
    {
      "cell_type": "code",
      "source": [
        "#nhúng các thư viện cần thiết chi việc học ảnh\n",
        "from os import listdir\n",
        "from numpy import asarray\n",
        "from numpy import save\n",
        "from keras.utils.image_utils import img_to_array\n",
        "from keras.utils import load_img"
      ],
      "metadata": {
        "id": "hBkvrMZoTLTP"
      },
      "execution_count": null,
      "outputs": []
    },
    {
      "cell_type": "code",
      "source": [
        "#Chọn vào thư mục có chứa data để train\n",
        "folder = '/content/drive/MyDrive/datasets/data_solf_drink/'\n",
        "photos, labels = list(), list()\n",
        "\n",
        "#Gán nhãn cho các vật được đem train cho AI\n",
        "for file in listdir(folder):\n",
        "  output = 0.0\n",
        "  if file.startswith('pepsi'):\n",
        "    output = 1.0  #'pepsi'\n",
        "  if file.startswith('coca'):\n",
        "    output = 2.0  #'coca'\n",
        "  if file.startswith('7up'):\n",
        "    output = 3.0  #'7up'\n",
        "  if file.startswith('mirinda'):\n",
        "    output = 4.0  #'mirinda'\n",
        "  if file.startswith('revive'):\n",
        "    output = 5.0  #'revive'\n",
        "  if file.startswith('sting'):\n",
        "    output = 6.0  #'sting'\n",
        "\n",
        "  #Thêm các dữ liệu vừa đọc vào một file photo và một file labels tạm để tiện cho việc train\n",
        "  photo = load_img (folder+file, target_size= (256,256))\n",
        "  photo = img_to_array (photo)\n",
        "  photos.append(photo)\n",
        "  labels.append(output)\n",
        "\n",
        "#Chuyển dạng data về array và lưu lại trong drive\n",
        "photos = asarray(photos)\n",
        "labels = asarray(labels)\n",
        "save('/content/drive/MyDrive/datasets/solfDrink_photo.npy', photos)\n",
        "save('/content/drive/MyDrive/datasets/solfDrink_label.npy', labels)"
      ],
      "metadata": {
        "id": "VUL2PuvmTOsc"
      },
      "execution_count": null,
      "outputs": []
    },
    {
      "cell_type": "code",
      "source": [
        "import numpy as np\n",
        "import pandas as pd\n",
        "import matplotlib.pyplot as plt\n",
        "import seaborn as sns"
      ],
      "metadata": {
        "id": "Z0kzBZ9gTt03"
      },
      "execution_count": null,
      "outputs": []
    },
    {
      "cell_type": "code",
      "source": [
        "#load lại giá trị mới \n",
        "photo = np.load('/content/drive/MyDrive/datasets/solfDrink_photo.npy')\n",
        "label = np.load('/content/drive/MyDrive/datasets/solfDrink_label.npy')"
      ],
      "metadata": {
        "id": "IGaXbjzoTv2Z"
      },
      "execution_count": null,
      "outputs": []
    },
    {
      "cell_type": "code",
      "source": [
        "#Tách data cho việc train và test\n",
        "split_index = int(0.2*len(photo))\n",
        "test_X,test_Y = photo[:split_index],label[:split_index]\n",
        "train_X, train_Y = photo[split_index:],label[split_index:]"
      ],
      "metadata": {
        "id": "N7cQILVUT40k"
      },
      "execution_count": null,
      "outputs": []
    },
    {
      "cell_type": "code",
      "source": [
        "print('Train:',train_X.shape)\n",
        "print('Test:',test_X.shape)"
      ],
      "metadata": {
        "colab": {
          "base_uri": "https://localhost:8080/"
        },
        "id": "JaGb5KwVT4t8",
        "outputId": "88ef2a81-3eb0-47ba-ad77-5375a5960a19"
      },
      "execution_count": null,
      "outputs": [
        {
          "output_type": "stream",
          "name": "stdout",
          "text": [
            "Train: (145, 256, 256, 3)\n",
            "Test: (36, 256, 256, 3)\n"
          ]
        }
      ]
    },
    {
      "cell_type": "code",
      "source": [
        "#Reshape lại đầu vào cho AI\n",
        "train_X = train_X.reshape((145,256,256,3))\n",
        "train_X = train_X.astype('float32')/255\n",
        "test_X = test_X.reshape((36,256,256,3))\n",
        "test_X = test_X.astype('float32')/255"
      ],
      "metadata": {
        "id": "t2Lqrrg4T9PE"
      },
      "execution_count": null,
      "outputs": []
    },
    {
      "cell_type": "code",
      "source": [
        "from keras.utils import to_categorical\n",
        "train_Y = to_categorical(train_Y,7)\n",
        "test_Y = to_categorical(test_Y,7)"
      ],
      "metadata": {
        "id": "mrl_JcyoUERS"
      },
      "execution_count": null,
      "outputs": []
    },
    {
      "cell_type": "code",
      "source": [
        "#Khai báo các thư viện cần thiết cho việc train AI\n",
        "from keras.models import Sequential\n",
        "from keras.models import Sequential, Model\n",
        "from keras.layers import Dense, Flatten, Dropout, Conv2D, MaxPooling2D, Normalization\n",
        "from keras.optimizers import Adam\n",
        "from keras.layers import LeakyReLU"
      ],
      "metadata": {
        "id": "OL059yfuUInq"
      },
      "execution_count": null,
      "outputs": []
    },
    {
      "cell_type": "code",
      "source": [
        "#Xác định các thông số cho việc học của AI\n",
        "batch_size = 52\n",
        "epochs = 100\n",
        "classes = 7"
      ],
      "metadata": {
        "id": "F1kBN0yQUK0B"
      },
      "execution_count": null,
      "outputs": []
    },
    {
      "cell_type": "code",
      "source": [
        "#Tạo các lớp nơ ron cần thiết cho việc train AI\n",
        "model = Sequential()\n",
        "model.add(Conv2D(128, kernel_size= (3,3), activation= 'linear', input_shape= (256,256,3), padding= 'same'))\n",
        "model.add(LeakyReLU(alpha= 0.1))\n",
        "model.add(MaxPooling2D((2,2), padding= 'same'))\n",
        "\n",
        "model.add(Conv2D(128,(3,3), activation= 'linear', padding= 'same'))\n",
        "model.add(LeakyReLU(alpha= 0.1))\n",
        "model.add(MaxPooling2D((2,2), padding= 'same'))\n",
        "\n",
        "model.add(Conv2D(256,(3,3), activation= 'linear', padding= 'same'))\n",
        "model.add(LeakyReLU(alpha= 0.1))\n",
        "model.add(MaxPooling2D((2,2), padding= 'same'))\n",
        "\n",
        "model.add(Flatten())\n",
        "model.add(Dense(256, activation= 'linear'))\n",
        "model.add(LeakyReLU(alpha= 0.1))\n",
        "model.add(Dense(classes, activation= 'softmax'))\n",
        "model.summary()"
      ],
      "metadata": {
        "colab": {
          "base_uri": "https://localhost:8080/"
        },
        "id": "-aNAAWkKUPtY",
        "outputId": "2378a548-0151-4b4e-88b9-906944fd2813"
      },
      "execution_count": null,
      "outputs": [
        {
          "output_type": "stream",
          "name": "stdout",
          "text": [
            "Model: \"sequential\"\n",
            "_________________________________________________________________\n",
            " Layer (type)                Output Shape              Param #   \n",
            "=================================================================\n",
            " conv2d (Conv2D)             (None, 256, 256, 128)     3584      \n",
            "                                                                 \n",
            " leaky_re_lu (LeakyReLU)     (None, 256, 256, 128)     0         \n",
            "                                                                 \n",
            " max_pooling2d (MaxPooling2D  (None, 128, 128, 128)    0         \n",
            " )                                                               \n",
            "                                                                 \n",
            " conv2d_1 (Conv2D)           (None, 128, 128, 128)     147584    \n",
            "                                                                 \n",
            " leaky_re_lu_1 (LeakyReLU)   (None, 128, 128, 128)     0         \n",
            "                                                                 \n",
            " max_pooling2d_1 (MaxPooling  (None, 64, 64, 128)      0         \n",
            " 2D)                                                             \n",
            "                                                                 \n",
            " conv2d_2 (Conv2D)           (None, 64, 64, 256)       295168    \n",
            "                                                                 \n",
            " leaky_re_lu_2 (LeakyReLU)   (None, 64, 64, 256)       0         \n",
            "                                                                 \n",
            " max_pooling2d_2 (MaxPooling  (None, 32, 32, 256)      0         \n",
            " 2D)                                                             \n",
            "                                                                 \n",
            " flatten (Flatten)           (None, 262144)            0         \n",
            "                                                                 \n",
            " dense (Dense)               (None, 256)               67109120  \n",
            "                                                                 \n",
            " leaky_re_lu_3 (LeakyReLU)   (None, 256)               0         \n",
            "                                                                 \n",
            " dense_1 (Dense)             (None, 7)                 1799      \n",
            "                                                                 \n",
            "=================================================================\n",
            "Total params: 67,557,255\n",
            "Trainable params: 67,557,255\n",
            "Non-trainable params: 0\n",
            "_________________________________________________________________\n"
          ]
        }
      ]
    },
    {
      "cell_type": "code",
      "source": [
        "#Load model đã tạo và bắt đầu cho train với những thông số đã cài trước đó\n",
        "from keras.losses import categorical_crossentropy\n",
        "model.compile(optimizer= Adam(), loss= categorical_crossentropy, metrics= ['accuracy'])\n",
        "train = model.fit(train_X, train_Y, epochs= epochs, batch_size= batch_size, verbose= 1)"
      ],
      "metadata": {
        "colab": {
          "base_uri": "https://localhost:8080/"
        },
        "id": "dN_UQ2tZUTj3",
        "outputId": "cf43cbd0-c346-4a4f-8912-c7f3c3553eab"
      },
      "execution_count": null,
      "outputs": [
        {
          "output_type": "stream",
          "name": "stdout",
          "text": [
            "Epoch 1/100\n",
            "3/3 [==============================] - 22s 3s/step - loss: 27.0523 - accuracy: 0.1517\n",
            "Epoch 2/100\n",
            "3/3 [==============================] - 1s 325ms/step - loss: 26.3962 - accuracy: 0.1172\n",
            "Epoch 3/100\n",
            "3/3 [==============================] - 1s 327ms/step - loss: 17.4554 - accuracy: 0.2069\n",
            "Epoch 4/100\n",
            "3/3 [==============================] - 1s 333ms/step - loss: 4.2997 - accuracy: 0.1517\n",
            "Epoch 5/100\n",
            "3/3 [==============================] - 1s 315ms/step - loss: 2.7489 - accuracy: 0.1655\n",
            "Epoch 6/100\n",
            "3/3 [==============================] - 1s 314ms/step - loss: 1.6890 - accuracy: 0.3034\n",
            "Epoch 7/100\n",
            "3/3 [==============================] - 1s 315ms/step - loss: 1.6637 - accuracy: 0.2621\n",
            "Epoch 8/100\n",
            "3/3 [==============================] - 1s 318ms/step - loss: 1.4947 - accuracy: 0.3655\n",
            "Epoch 9/100\n",
            "3/3 [==============================] - 1s 317ms/step - loss: 1.3240 - accuracy: 0.4690\n",
            "Epoch 10/100\n",
            "3/3 [==============================] - 1s 315ms/step - loss: 1.0949 - accuracy: 0.5793\n",
            "Epoch 11/100\n",
            "3/3 [==============================] - 1s 318ms/step - loss: 0.9687 - accuracy: 0.6621\n",
            "Epoch 12/100\n",
            "3/3 [==============================] - 1s 317ms/step - loss: 0.8504 - accuracy: 0.6897\n",
            "Epoch 13/100\n",
            "3/3 [==============================] - 1s 314ms/step - loss: 0.8452 - accuracy: 0.7379\n",
            "Epoch 14/100\n",
            "3/3 [==============================] - 1s 316ms/step - loss: 0.6748 - accuracy: 0.7586\n",
            "Epoch 15/100\n",
            "3/3 [==============================] - 1s 325ms/step - loss: 0.5966 - accuracy: 0.8000\n",
            "Epoch 16/100\n",
            "3/3 [==============================] - 1s 327ms/step - loss: 0.4238 - accuracy: 0.8897\n",
            "Epoch 17/100\n",
            "3/3 [==============================] - 1s 339ms/step - loss: 0.4178 - accuracy: 0.8552\n",
            "Epoch 18/100\n",
            "3/3 [==============================] - 1s 325ms/step - loss: 0.2985 - accuracy: 0.9241\n",
            "Epoch 19/100\n",
            "3/3 [==============================] - 1s 321ms/step - loss: 0.2712 - accuracy: 0.8966\n",
            "Epoch 20/100\n",
            "3/3 [==============================] - 1s 318ms/step - loss: 0.1851 - accuracy: 0.9310\n",
            "Epoch 21/100\n",
            "3/3 [==============================] - 1s 317ms/step - loss: 0.1899 - accuracy: 0.9310\n",
            "Epoch 22/100\n",
            "3/3 [==============================] - 1s 319ms/step - loss: 0.1333 - accuracy: 0.9655\n",
            "Epoch 23/100\n",
            "3/3 [==============================] - 1s 318ms/step - loss: 0.1063 - accuracy: 0.9793\n",
            "Epoch 24/100\n",
            "3/3 [==============================] - 1s 321ms/step - loss: 0.0773 - accuracy: 0.9931\n",
            "Epoch 25/100\n",
            "3/3 [==============================] - 1s 314ms/step - loss: 0.0587 - accuracy: 0.9931\n",
            "Epoch 26/100\n",
            "3/3 [==============================] - 1s 316ms/step - loss: 0.0388 - accuracy: 0.9931\n",
            "Epoch 27/100\n",
            "3/3 [==============================] - 1s 320ms/step - loss: 0.0288 - accuracy: 0.9931\n",
            "Epoch 28/100\n",
            "3/3 [==============================] - 1s 318ms/step - loss: 0.0215 - accuracy: 0.9931\n",
            "Epoch 29/100\n",
            "3/3 [==============================] - 1s 332ms/step - loss: 0.0158 - accuracy: 1.0000\n",
            "Epoch 30/100\n",
            "3/3 [==============================] - 1s 331ms/step - loss: 0.0090 - accuracy: 1.0000\n",
            "Epoch 31/100\n",
            "3/3 [==============================] - 1s 326ms/step - loss: 0.0064 - accuracy: 1.0000\n",
            "Epoch 32/100\n",
            "3/3 [==============================] - 1s 322ms/step - loss: 0.0044 - accuracy: 1.0000\n",
            "Epoch 33/100\n",
            "3/3 [==============================] - 1s 321ms/step - loss: 0.0034 - accuracy: 1.0000\n",
            "Epoch 34/100\n",
            "3/3 [==============================] - 1s 318ms/step - loss: 0.0027 - accuracy: 1.0000\n",
            "Epoch 35/100\n",
            "3/3 [==============================] - 1s 322ms/step - loss: 0.0020 - accuracy: 1.0000\n",
            "Epoch 36/100\n",
            "3/3 [==============================] - 1s 317ms/step - loss: 0.0017 - accuracy: 1.0000\n",
            "Epoch 37/100\n",
            "3/3 [==============================] - 1s 318ms/step - loss: 0.0016 - accuracy: 1.0000\n",
            "Epoch 38/100\n",
            "3/3 [==============================] - 1s 315ms/step - loss: 0.0014 - accuracy: 1.0000\n",
            "Epoch 39/100\n",
            "3/3 [==============================] - 1s 318ms/step - loss: 0.0013 - accuracy: 1.0000\n",
            "Epoch 40/100\n",
            "3/3 [==============================] - 1s 318ms/step - loss: 0.0011 - accuracy: 1.0000\n",
            "Epoch 41/100\n",
            "3/3 [==============================] - 1s 319ms/step - loss: 9.8335e-04 - accuracy: 1.0000\n",
            "Epoch 42/100\n",
            "3/3 [==============================] - 1s 326ms/step - loss: 9.3572e-04 - accuracy: 1.0000\n",
            "Epoch 43/100\n",
            "3/3 [==============================] - 1s 361ms/step - loss: 8.5057e-04 - accuracy: 1.0000\n",
            "Epoch 44/100\n",
            "3/3 [==============================] - 1s 328ms/step - loss: 7.8215e-04 - accuracy: 1.0000\n",
            "Epoch 45/100\n",
            "3/3 [==============================] - 1s 329ms/step - loss: 7.4260e-04 - accuracy: 1.0000\n",
            "Epoch 46/100\n",
            "3/3 [==============================] - 1s 326ms/step - loss: 6.9510e-04 - accuracy: 1.0000\n",
            "Epoch 47/100\n",
            "3/3 [==============================] - 1s 334ms/step - loss: 6.5222e-04 - accuracy: 1.0000\n",
            "Epoch 48/100\n",
            "3/3 [==============================] - 1s 327ms/step - loss: 6.2499e-04 - accuracy: 1.0000\n",
            "Epoch 49/100\n",
            "3/3 [==============================] - 1s 318ms/step - loss: 5.9431e-04 - accuracy: 1.0000\n",
            "Epoch 50/100\n",
            "3/3 [==============================] - 1s 327ms/step - loss: 5.6309e-04 - accuracy: 1.0000\n",
            "Epoch 51/100\n",
            "3/3 [==============================] - 1s 318ms/step - loss: 5.3800e-04 - accuracy: 1.0000\n",
            "Epoch 52/100\n",
            "3/3 [==============================] - 1s 326ms/step - loss: 5.2140e-04 - accuracy: 1.0000\n",
            "Epoch 53/100\n",
            "3/3 [==============================] - 1s 322ms/step - loss: 5.0148e-04 - accuracy: 1.0000\n",
            "Epoch 54/100\n",
            "3/3 [==============================] - 1s 323ms/step - loss: 4.8229e-04 - accuracy: 1.0000\n",
            "Epoch 55/100\n",
            "3/3 [==============================] - 1s 322ms/step - loss: 4.6242e-04 - accuracy: 1.0000\n",
            "Epoch 56/100\n",
            "3/3 [==============================] - 1s 324ms/step - loss: 4.4284e-04 - accuracy: 1.0000\n",
            "Epoch 57/100\n",
            "3/3 [==============================] - 1s 322ms/step - loss: 4.3323e-04 - accuracy: 1.0000\n",
            "Epoch 58/100\n",
            "3/3 [==============================] - 1s 330ms/step - loss: 4.2013e-04 - accuracy: 1.0000\n",
            "Epoch 59/100\n",
            "3/3 [==============================] - 1s 333ms/step - loss: 4.0579e-04 - accuracy: 1.0000\n",
            "Epoch 60/100\n",
            "3/3 [==============================] - 1s 329ms/step - loss: 3.9086e-04 - accuracy: 1.0000\n",
            "Epoch 61/100\n",
            "3/3 [==============================] - 1s 323ms/step - loss: 3.7875e-04 - accuracy: 1.0000\n",
            "Epoch 62/100\n",
            "3/3 [==============================] - 1s 322ms/step - loss: 3.6478e-04 - accuracy: 1.0000\n",
            "Epoch 63/100\n",
            "3/3 [==============================] - 1s 323ms/step - loss: 3.5602e-04 - accuracy: 1.0000\n",
            "Epoch 64/100\n",
            "3/3 [==============================] - 1s 320ms/step - loss: 3.4293e-04 - accuracy: 1.0000\n",
            "Epoch 65/100\n",
            "3/3 [==============================] - 1s 320ms/step - loss: 3.3042e-04 - accuracy: 1.0000\n",
            "Epoch 66/100\n",
            "3/3 [==============================] - 1s 320ms/step - loss: 3.1941e-04 - accuracy: 1.0000\n",
            "Epoch 67/100\n",
            "3/3 [==============================] - 1s 322ms/step - loss: 3.0658e-04 - accuracy: 1.0000\n",
            "Epoch 68/100\n",
            "3/3 [==============================] - 1s 322ms/step - loss: 3.0056e-04 - accuracy: 1.0000\n",
            "Epoch 69/100\n",
            "3/3 [==============================] - 1s 323ms/step - loss: 2.9087e-04 - accuracy: 1.0000\n",
            "Epoch 70/100\n",
            "3/3 [==============================] - 1s 322ms/step - loss: 2.7898e-04 - accuracy: 1.0000\n",
            "Epoch 71/100\n",
            "3/3 [==============================] - 1s 328ms/step - loss: 2.6961e-04 - accuracy: 1.0000\n",
            "Epoch 72/100\n",
            "3/3 [==============================] - 1s 329ms/step - loss: 2.6161e-04 - accuracy: 1.0000\n",
            "Epoch 73/100\n",
            "3/3 [==============================] - 1s 330ms/step - loss: 2.5374e-04 - accuracy: 1.0000\n",
            "Epoch 74/100\n",
            "3/3 [==============================] - 1s 331ms/step - loss: 2.4674e-04 - accuracy: 1.0000\n",
            "Epoch 75/100\n",
            "3/3 [==============================] - 1s 324ms/step - loss: 2.3887e-04 - accuracy: 1.0000\n",
            "Epoch 76/100\n",
            "3/3 [==============================] - 1s 322ms/step - loss: 2.3209e-04 - accuracy: 1.0000\n",
            "Epoch 77/100\n",
            "3/3 [==============================] - 1s 322ms/step - loss: 2.2579e-04 - accuracy: 1.0000\n",
            "Epoch 78/100\n",
            "3/3 [==============================] - 1s 323ms/step - loss: 2.1931e-04 - accuracy: 1.0000\n",
            "Epoch 79/100\n",
            "3/3 [==============================] - 1s 322ms/step - loss: 2.1363e-04 - accuracy: 1.0000\n",
            "Epoch 80/100\n",
            "3/3 [==============================] - 1s 324ms/step - loss: 2.0915e-04 - accuracy: 1.0000\n",
            "Epoch 81/100\n",
            "3/3 [==============================] - 1s 322ms/step - loss: 2.0453e-04 - accuracy: 1.0000\n",
            "Epoch 82/100\n",
            "3/3 [==============================] - 1s 322ms/step - loss: 1.9849e-04 - accuracy: 1.0000\n",
            "Epoch 83/100\n",
            "3/3 [==============================] - 1s 324ms/step - loss: 1.9407e-04 - accuracy: 1.0000\n",
            "Epoch 84/100\n",
            "3/3 [==============================] - 1s 325ms/step - loss: 1.8900e-04 - accuracy: 1.0000\n",
            "Epoch 85/100\n",
            "3/3 [==============================] - 1s 344ms/step - loss: 1.8521e-04 - accuracy: 1.0000\n",
            "Epoch 86/100\n",
            "3/3 [==============================] - 1s 333ms/step - loss: 1.8129e-04 - accuracy: 1.0000\n",
            "Epoch 87/100\n",
            "3/3 [==============================] - 1s 337ms/step - loss: 1.7673e-04 - accuracy: 1.0000\n",
            "Epoch 88/100\n",
            "3/3 [==============================] - 1s 328ms/step - loss: 1.7302e-04 - accuracy: 1.0000\n",
            "Epoch 89/100\n",
            "3/3 [==============================] - 1s 323ms/step - loss: 1.6900e-04 - accuracy: 1.0000\n",
            "Epoch 90/100\n",
            "3/3 [==============================] - 1s 323ms/step - loss: 1.6611e-04 - accuracy: 1.0000\n",
            "Epoch 91/100\n",
            "3/3 [==============================] - 1s 324ms/step - loss: 1.6235e-04 - accuracy: 1.0000\n",
            "Epoch 92/100\n",
            "3/3 [==============================] - 1s 324ms/step - loss: 1.5944e-04 - accuracy: 1.0000\n",
            "Epoch 93/100\n",
            "3/3 [==============================] - 1s 324ms/step - loss: 1.5554e-04 - accuracy: 1.0000\n",
            "Epoch 94/100\n",
            "3/3 [==============================] - 1s 326ms/step - loss: 1.5203e-04 - accuracy: 1.0000\n",
            "Epoch 95/100\n",
            "3/3 [==============================] - 1s 326ms/step - loss: 1.4936e-04 - accuracy: 1.0000\n",
            "Epoch 96/100\n",
            "3/3 [==============================] - 1s 326ms/step - loss: 1.4632e-04 - accuracy: 1.0000\n",
            "Epoch 97/100\n",
            "3/3 [==============================] - 1s 325ms/step - loss: 1.4320e-04 - accuracy: 1.0000\n",
            "Epoch 98/100\n",
            "3/3 [==============================] - 1s 326ms/step - loss: 1.4106e-04 - accuracy: 1.0000\n",
            "Epoch 99/100\n",
            "3/3 [==============================] - 1s 335ms/step - loss: 1.3807e-04 - accuracy: 1.0000\n",
            "Epoch 100/100\n",
            "3/3 [==============================] - 1s 328ms/step - loss: 1.3495e-04 - accuracy: 1.0000\n"
          ]
        }
      ]
    },
    {
      "cell_type": "code",
      "source": [
        "ST#Lưu lại model để dễ cho việc làm việc\n",
        "model.save('/content/drive/MyDrive/datasets/solfDrinkReg_cnn.h5')"
      ],
      "metadata": {
        "id": "BUzaBwgOUWPe"
      },
      "execution_count": null,
      "outputs": []
    }
  ]
}